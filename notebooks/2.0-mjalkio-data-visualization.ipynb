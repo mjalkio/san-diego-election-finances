{
 "cells": [
  {
   "cell_type": "code",
   "execution_count": 1,
   "metadata": {},
   "outputs": [],
   "source": [
    "import pandas as pd\n",
    "\n",
    "import matplotlib.pyplot as plt\n",
    "from matplotlib.ticker import FuncFormatter\n",
    "%matplotlib inline"
   ]
  },
  {
   "cell_type": "code",
   "execution_count": 2,
   "metadata": {},
   "outputs": [
    {
     "data": {
      "text/plain": [
       "Index([u'recipient_name', u'contribution_amount', u'year',\n",
       "       u'candidate_or_measure', u'candidate_office_sought',\n",
       "       u'support_or_oppose', u'contributor_name'],\n",
       "      dtype='object')"
      ]
     },
     "execution_count": 2,
     "metadata": {},
     "output_type": "execute_result"
    }
   ],
   "source": [
    "fin_support_df = pd.read_csv('../data/interim/fin_support_data.csv')\n",
    "fin_support_df.columns"
   ]
  },
  {
   "cell_type": "code",
   "execution_count": 3,
   "metadata": {},
   "outputs": [
    {
     "data": {
      "text/html": [
       "<div>\n",
       "<style scoped>\n",
       "    .dataframe tbody tr th:only-of-type {\n",
       "        vertical-align: middle;\n",
       "    }\n",
       "\n",
       "    .dataframe tbody tr th {\n",
       "        vertical-align: top;\n",
       "    }\n",
       "\n",
       "    .dataframe thead th {\n",
       "        text-align: right;\n",
       "    }\n",
       "</style>\n",
       "<table border=\"1\" class=\"dataframe\">\n",
       "  <thead>\n",
       "    <tr style=\"text-align: right;\">\n",
       "      <th></th>\n",
       "      <th>contribution_amount</th>\n",
       "    </tr>\n",
       "    <tr>\n",
       "      <th>year</th>\n",
       "      <th></th>\n",
       "    </tr>\n",
       "  </thead>\n",
       "  <tbody>\n",
       "    <tr>\n",
       "      <th>2007</th>\n",
       "      <td>1743967.94</td>\n",
       "    </tr>\n",
       "    <tr>\n",
       "      <th>2008</th>\n",
       "      <td>13021934.91</td>\n",
       "    </tr>\n",
       "    <tr>\n",
       "      <th>2009</th>\n",
       "      <td>975445.22</td>\n",
       "    </tr>\n",
       "    <tr>\n",
       "      <th>2010</th>\n",
       "      <td>6764910.10</td>\n",
       "    </tr>\n",
       "    <tr>\n",
       "      <th>2011</th>\n",
       "      <td>8136874.74</td>\n",
       "    </tr>\n",
       "  </tbody>\n",
       "</table>\n",
       "</div>"
      ],
      "text/plain": [
       "      contribution_amount\n",
       "year                     \n",
       "2007           1743967.94\n",
       "2008          13021934.91\n",
       "2009            975445.22\n",
       "2010           6764910.10\n",
       "2011           8136874.74"
      ]
     },
     "execution_count": 3,
     "metadata": {},
     "output_type": "execute_result"
    }
   ],
   "source": [
    "fin_support_by_year = fin_support_df[['year', 'contribution_amount']].groupby(['year']).agg(sum)\n",
    "fin_support_by_year.head()"
   ]
  },
  {
   "cell_type": "code",
   "execution_count": 4,
   "metadata": {},
   "outputs": [
    {
     "data": {
      "text/plain": [
       "Text(0,0.5,u'Total Dollars Contributed')"
      ]
     },
     "execution_count": 4,
     "metadata": {},
     "output_type": "execute_result"
    },
    {
     "data": {
      "image/png": "[encoded data removed]",
      "text/plain": [
       "<matplotlib.figure.Figure at 0x10d73a850>"
      ]
     },
     "metadata": {},
     "output_type": "display_data"
    }
   ],
   "source": [
    "ax = fin_support_by_year.plot.bar()\n",
    "\n",
    "# https://matplotlib.org/examples/pylab_examples/custom_ticker1.html\n",
    "def millions(x, pos):\n",
    "    'The two args are the value and tick position'\n",
    "    return '$%1.1fM' % (x*1e-6)\n",
    "\n",
    "millions_formatter = FuncFormatter(millions)\n",
    "ax.yaxis.set_major_formatter(millions_formatter)\n",
    "ax.set_xlabel('Year')\n",
    "ax.set_ylabel('Total Dollars Contributed')"
   ]
  },
  {
   "cell_type": "code",
   "execution_count": 5,
   "metadata": {},
   "outputs": [
    {
     "data": {
      "text/html": [
       "<div>\n",
       "<style scoped>\n",
       "    .dataframe tbody tr th:only-of-type {\n",
       "        vertical-align: middle;\n",
       "    }\n",
       "\n",
       "    .dataframe tbody tr th {\n",
       "        vertical-align: top;\n",
       "    }\n",
       "\n",
       "    .dataframe thead th {\n",
       "        text-align: right;\n",
       "    }\n",
       "</style>\n",
       "<table border=\"1\" class=\"dataframe\">\n",
       "  <thead>\n",
       "    <tr style=\"text-align: right;\">\n",
       "      <th></th>\n",
       "      <th>contribution_amount</th>\n",
       "    </tr>\n",
       "    <tr>\n",
       "      <th>candidate_or_measure</th>\n",
       "      <th></th>\n",
       "    </tr>\n",
       "  </thead>\n",
       "  <tbody>\n",
       "    <tr>\n",
       "      <th>32: Prohibits Political Contributions by Payroll Deduction. Prohibitions on Contributions to Candidates. Initiative Statute. (Statewide)</th>\n",
       "      <td>107013.29</td>\n",
       "    </tr>\n",
       "    <tr>\n",
       "      <th>41: Veterans Housing and Homeless Prevention Act (Statewide)</th>\n",
       "      <td>500.00</td>\n",
       "    </tr>\n",
       "    <tr>\n",
       "      <th>A: Amends the City Charter to exempt from the managed competition process the core public safety services provided by participants in the City's safety retirement system</th>\n",
       "      <td>449598.70</td>\n",
       "    </tr>\n",
       "    <tr>\n",
       "      <th>A: Prohibits the City from requiring project labor agreements on City construction projects</th>\n",
       "      <td>1005679.04</td>\n",
       "    </tr>\n",
       "    <tr>\n",
       "      <th>A: Proposed San Diego County Charter amendment to ensure fair and open competition for county construction contracts.</th>\n",
       "      <td>381292.89</td>\n",
       "    </tr>\n",
       "  </tbody>\n",
       "</table>\n",
       "</div>"
      ],
      "text/plain": [
       "                                                    contribution_amount\n",
       "candidate_or_measure                                                   \n",
       "32: Prohibits Political Contributions by Payrol...            107013.29\n",
       "41: Veterans Housing and Homeless Prevention Ac...               500.00\n",
       "A: Amends the City Charter to exempt from the m...            449598.70\n",
       "A: Prohibits the City from requiring project la...           1005679.04\n",
       "A: Proposed San Diego County Charter amendment ...            381292.89"
      ]
     },
     "execution_count": 5,
     "metadata": {},
     "output_type": "execute_result"
    }
   ],
   "source": [
    "fin_support_just_support = fin_support_df[fin_support_df['support_or_oppose'] == 'Support']\n",
    "fin_support_by_candidate = fin_support_just_support[['candidate_or_measure', 'contribution_amount']]\n",
    "fin_support_by_candidate = fin_support_by_candidate.groupby(['candidate_or_measure']).agg(sum)\n",
    "fin_support_by_candidate.head()"
   ]
  },
  {
   "cell_type": "code",
   "execution_count": 6,
   "metadata": {},
   "outputs": [
    {
     "data": {
      "text/html": [
       "<div>\n",
       "<style scoped>\n",
       "    .dataframe tbody tr th:only-of-type {\n",
       "        vertical-align: middle;\n",
       "    }\n",
       "\n",
       "    .dataframe tbody tr th {\n",
       "        vertical-align: top;\n",
       "    }\n",
       "\n",
       "    .dataframe thead th {\n",
       "        text-align: right;\n",
       "    }\n",
       "</style>\n",
       "<table border=\"1\" class=\"dataframe\">\n",
       "  <thead>\n",
       "    <tr style=\"text-align: right;\">\n",
       "      <th></th>\n",
       "      <th>contribution_amount</th>\n",
       "    </tr>\n",
       "    <tr>\n",
       "      <th>candidate_or_measure</th>\n",
       "      <th></th>\n",
       "    </tr>\n",
       "  </thead>\n",
       "  <tbody>\n",
       "    <tr>\n",
       "      <th>Kevin Faulconer</th>\n",
       "      <td>8323675.63</td>\n",
       "    </tr>\n",
       "    <tr>\n",
       "      <th>C: Downtown stadium initiative</th>\n",
       "      <td>8144128.68</td>\n",
       "    </tr>\n",
       "    <tr>\n",
       "      <th>David Alvarez</th>\n",
       "      <td>5911497.68</td>\n",
       "    </tr>\n",
       "    <tr>\n",
       "      <th>Bob Filner</th>\n",
       "      <td>5806292.01</td>\n",
       "    </tr>\n",
       "    <tr>\n",
       "      <th>Steve Francis</th>\n",
       "      <td>4696373.70</td>\n",
       "    </tr>\n",
       "  </tbody>\n",
       "</table>\n",
       "</div>"
      ],
      "text/plain": [
       "                                contribution_amount\n",
       "candidate_or_measure                               \n",
       "Kevin Faulconer                          8323675.63\n",
       "C: Downtown stadium initiative           8144128.68\n",
       "David Alvarez                            5911497.68\n",
       "Bob Filner                               5806292.01\n",
       "Steve Francis                            4696373.70"
      ]
     },
     "execution_count": 6,
     "metadata": {},
     "output_type": "execute_result"
    }
   ],
   "source": [
    "fin_support_top_ten = fin_support_by_candidate.sort_values(by='contribution_amount', ascending=False).iloc[:10]\n",
    "fin_support_top_ten.head()"
   ]
  },
  {
   "cell_type": "code",
   "execution_count": 7,
   "metadata": {},
   "outputs": [
    {
     "data": {
      "text/plain": [
       "Text(0,0.5,u'Total Dollars Received')"
      ]
     },
     "execution_count": 7,
     "metadata": {},
     "output_type": "execute_result"
    },
    {
     "data": {
      "image/png": "[encoded data removed]",
      "text/plain": [
       "<matplotlib.figure.Figure at 0x10ed9ea50>"
      ]
     },
     "metadata": {},
     "output_type": "display_data"
    }
   ],
   "source": [
    "ax = fin_support_top_ten.plot.bar()\n",
    "\n",
    "ax.yaxis.set_major_formatter(millions_formatter)\n",
    "ax.set_xlabel('Candidate or Measure')\n",
    "ax.set_ylabel('Total Dollars Received')"
   ]
  },
  {
   "cell_type": "code",
   "execution_count": 8,
   "metadata": {},
   "outputs": [
    {
     "data": {
      "text/html": [
       "<div>\n",
       "<style scoped>\n",
       "    .dataframe tbody tr th:only-of-type {\n",
       "        vertical-align: middle;\n",
       "    }\n",
       "\n",
       "    .dataframe tbody tr th {\n",
       "        vertical-align: top;\n",
       "    }\n",
       "\n",
       "    .dataframe thead th {\n",
       "        text-align: right;\n",
       "    }\n",
       "</style>\n",
       "<table border=\"1\" class=\"dataframe\">\n",
       "  <thead>\n",
       "    <tr style=\"text-align: right;\">\n",
       "      <th></th>\n",
       "      <th>candidate_or_measure</th>\n",
       "      <th>contribution_amount</th>\n",
       "    </tr>\n",
       "  </thead>\n",
       "  <tbody>\n",
       "    <tr>\n",
       "      <th>0</th>\n",
       "      <td>Kevin Faulconer</td>\n",
       "      <td>8323675.63</td>\n",
       "    </tr>\n",
       "    <tr>\n",
       "      <th>1</th>\n",
       "      <td>C: Downtown stadium initiative</td>\n",
       "      <td>8144128.68</td>\n",
       "    </tr>\n",
       "    <tr>\n",
       "      <th>2</th>\n",
       "      <td>David Alvarez</td>\n",
       "      <td>5911497.68</td>\n",
       "    </tr>\n",
       "    <tr>\n",
       "      <th>3</th>\n",
       "      <td>Bob Filner</td>\n",
       "      <td>5806292.01</td>\n",
       "    </tr>\n",
       "    <tr>\n",
       "      <th>4</th>\n",
       "      <td>Steve Francis</td>\n",
       "      <td>4696373.70</td>\n",
       "    </tr>\n",
       "    <tr>\n",
       "      <th>5</th>\n",
       "      <td>Carl DeMaio</td>\n",
       "      <td>4555372.31</td>\n",
       "    </tr>\n",
       "    <tr>\n",
       "      <th>6</th>\n",
       "      <td>Nathan Fletcher</td>\n",
       "      <td>4526916.52</td>\n",
       "    </tr>\n",
       "    <tr>\n",
       "      <th>7</th>\n",
       "      <td>B: Amends City Charter regarding retirement be...</td>\n",
       "      <td>2926625.12</td>\n",
       "    </tr>\n",
       "    <tr>\n",
       "      <th>8</th>\n",
       "      <td>Chris Cate</td>\n",
       "      <td>1987663.16</td>\n",
       "    </tr>\n",
       "    <tr>\n",
       "      <th>9</th>\n",
       "      <td>Robert Hickey</td>\n",
       "      <td>1694005.88</td>\n",
       "    </tr>\n",
       "  </tbody>\n",
       "</table>\n",
       "</div>"
      ],
      "text/plain": [
       "                                candidate_or_measure  contribution_amount\n",
       "0                                    Kevin Faulconer           8323675.63\n",
       "1                     C: Downtown stadium initiative           8144128.68\n",
       "2                                      David Alvarez           5911497.68\n",
       "3                                         Bob Filner           5806292.01\n",
       "4                                     Steve Francis            4696373.70\n",
       "5                                        Carl DeMaio           4555372.31\n",
       "6                                    Nathan Fletcher           4526916.52\n",
       "7  B: Amends City Charter regarding retirement be...           2926625.12\n",
       "8                                         Chris Cate           1987663.16\n",
       "9                                      Robert Hickey           1694005.88"
      ]
     },
     "execution_count": 8,
     "metadata": {},
     "output_type": "execute_result"
    }
   ],
   "source": [
    "fin_support_top_ten = fin_support_top_ten.reset_index()\n",
    "fin_support_top_ten"
   ]
  },
  {
   "cell_type": "code",
   "execution_count": 11,
   "metadata": {},
   "outputs": [
    {
     "ename": "IndentationError",
     "evalue": "unexpected indent (<ipython-input-11-fe864abe1698>, line 2)",
     "output_type": "error",
     "traceback": [
      "\u001b[0;36m  File \u001b[0;32m\"<ipython-input-11-fe864abe1698>\"\u001b[0;36m, line \u001b[0;32m2\u001b[0m\n\u001b[0;31m    .groupby(['candidate_or_measure', 'year']).agg(sum)\u001b[0m\n\u001b[0m    ^\u001b[0m\n\u001b[0;31mIndentationError\u001b[0m\u001b[0;31m:\u001b[0m unexpected indent\n"
     ]
    }
   ],
   "source": [
    "fin_support_by_candidate_year = fin_support_just_support[['candidate_or_measure', 'contribution_amount', 'year']]\n",
    "    .groupby(['candidate_or_measure', 'year']).agg(sum)\n",
    ".reset_index()\n",
    "fin_support_by_candidate_year = pd.merge(fin_support_top_ten, fin_support_by_candidate_year, on='candidate_or_measure', suffixes=('_total', '_year'))\n",
    "fin_support_by_candidate_year = fin_support_by_candidate_year[['year', 'candidate_or_measure', 'contribution_amount_year']]\n",
    "fin_support_by_candidate_year = fin_support_by_candidate_year.groupby(['year', 'candidate_or_measure']).agg(sum).unstack('year').fillna(0)"
   ]
  },
  {
   "cell_type": "code",
   "execution_count": 10,
   "metadata": {},
   "outputs": [
    {
     "data": {
      "text/plain": [
       "<matplotlib.axes._subplots.AxesSubplot at 0x10d4c1490>"
      ]
     },
     "execution_count": 10,
     "metadata": {},
     "output_type": "execute_result"
    },
    {
     "data": {
      "image/png": "[encoded data removed]",
      "text/plain": [
       "<matplotlib.figure.Figure at 0x111c322d0>"
      ]
     },
     "metadata": {},
     "output_type": "display_data"
    }
   ],
   "source": [
    "fin_support_by_candidate_year.plot.bar(stacked=True)"
   ]
  },
  {
   "cell_type": "code",
   "execution_count": null,
   "metadata": {},
   "outputs": [],
   "source": []
  }
 ],
 "metadata": {
  "kernelspec": {
   "display_name": "Python 2",
   "language": "python",
   "name": "python2"
  },
  "language_info": {
   "codemirror_mode": {
    "name": "ipython",
    "version": 2
   },
   "file_extension": ".py",
   "mimetype": "text/x-python",
   "name": "python",
   "nbconvert_exporter": "python",
   "pygments_lexer": "ipython2",
   "version": "2.7.10"
  }
 },
 "nbformat": 4,
 "nbformat_minor": 2
}
